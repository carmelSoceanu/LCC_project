{
 "cells": [
  {
   "cell_type": "code",
   "execution_count": 1,
   "id": "4453b372-4c04-4b2f-b8b3-ef2bcc880b98",
   "metadata": {},
   "outputs": [
    {
     "name": "stdout",
     "output_type": "stream",
     "text": [
      "Saving Mitchell:\n",
      "Getting random voxels...\n",
      "Mitchell has 17326 shared voxels.\n",
      "Selecting 1024 random voxels using seed=42...\n",
      "Getting fMRI data...\n",
      "Saving Mitchell to .pkl files...\n",
      "Finished Mitchell.\n",
      "9 participants in total.\n",
      "**************************************************\n",
      "Finished Mitchell.\n"
     ]
    }
   ],
   "source": [
    "# Save Mitchell\n",
    "import Mitchell\n",
    "Mitchell.save_data(num=1024)"
   ]
  },
  {
   "cell_type": "code",
   "execution_count": 2,
   "id": "eaa10049-4161-4790-bf3f-66e1ac0accd9",
   "metadata": {},
   "outputs": [
    {
     "name": "stdout",
     "output_type": "stream",
     "text": [
      "Saving Pereira EXP1:\n",
      "Getting random voxels...\n",
      "EXP1 has 103473 shared voxels.\n",
      "Selecting 1024 random voxels using seed=42...\n",
      "Getting fMRI data...\n",
      "Saving Pereira EXP1 to .pkl files...\n",
      "Finished Pereira EXP1.\n",
      "16 participants in total.\n",
      "**************************************************\n",
      "Saving Pereira EXP2:\n",
      "Getting random voxels...\n",
      "EXP2 has 115807 shared voxels.\n",
      "Selecting 1024 random voxels using seed=42...\n",
      "Getting fMRI data...\n",
      "Saving Pereira EXP2 to .pkl files...\n",
      "Finished Pereira EXP2.\n",
      "8 participants in total.\n",
      "**************************************************\n",
      "Saving Pereira EXP3:\n",
      "Getting random voxels...\n",
      "EXP3 has 117781 shared voxels.\n",
      "Selecting 1024 random voxels using seed=42...\n",
      "Getting fMRI data...\n",
      "Saving Pereira EXP3 to .pkl files...\n",
      "Finished Pereira EXP3.\n",
      "6 participants in total.\n",
      "**************************************************\n",
      "Finished Pereira.\n"
     ]
    }
   ],
   "source": [
    "# Save Pereira\n",
    "import Pereira\n",
    "Pereira.save_data(num=1024)"
   ]
  },
  {
   "cell_type": "code",
   "execution_count": 3,
   "id": "080e24f9-0a93-4f7f-b101-afb8c5d81013",
   "metadata": {},
   "outputs": [
    {
     "name": "stdout",
     "output_type": "stream",
     "text": [
      "Saving Toffolo NPC:\n",
      "Saving Toffolo NPC to .pkl files...\n",
      "Finished Toffolo NPC.\n",
      "19 participants in total.\n",
      "**************************************************\n",
      "Saving Toffolo NPI:\n",
      "Saving Toffolo NPI to .pkl files...\n",
      "Finished Toffolo NPI.\n",
      "19 participants in total.\n",
      "**************************************************\n",
      "Finished Toffolo.\n"
     ]
    }
   ],
   "source": [
    "# Save Toffolo\n",
    "import Toffolo\n",
    "Toffolo.save_data()"
   ]
  }
 ],
 "metadata": {
  "kernelspec": {
   "display_name": "Python 3 (ipykernel)",
   "language": "python",
   "name": "python3"
  },
  "language_info": {
   "codemirror_mode": {
    "name": "ipython",
    "version": 3
   },
   "file_extension": ".py",
   "mimetype": "text/x-python",
   "name": "python",
   "nbconvert_exporter": "python",
   "pygments_lexer": "ipython3",
   "version": "3.12.2"
  }
 },
 "nbformat": 4,
 "nbformat_minor": 5
}
